{
 "cells": [
  {
   "cell_type": "markdown",
   "id": "1bad11d0",
   "metadata": {},
   "source": [
    "### Import and Explore Data "
   ]
  },
  {
   "cell_type": "code",
   "execution_count": 307,
   "id": "15d8c81f",
   "metadata": {},
   "outputs": [],
   "source": [
    "import pandas as pd\n",
    "import seaborn as sns\n",
    "import matplotlib.pyplot as plt\n",
    "BKK = pd.read_csv('/Users/atikarnpattamavichaiporn/Downloads/BKK.csv')"
   ]
  },
  {
   "cell_type": "code",
   "execution_count": 308,
   "id": "e7384581",
   "metadata": {
    "scrolled": true
   },
   "outputs": [
    {
     "data": {
      "text/html": [
       "<div>\n",
       "<style scoped>\n",
       "    .dataframe tbody tr th:only-of-type {\n",
       "        vertical-align: middle;\n",
       "    }\n",
       "\n",
       "    .dataframe tbody tr th {\n",
       "        vertical-align: top;\n",
       "    }\n",
       "\n",
       "    .dataframe thead th {\n",
       "        text-align: right;\n",
       "    }\n",
       "</style>\n",
       "<table border=\"1\" class=\"dataframe\">\n",
       "  <thead>\n",
       "    <tr style=\"text-align: right;\">\n",
       "      <th></th>\n",
       "      <th>city</th>\n",
       "      <th>year</th>\n",
       "      <th>avg_temp</th>\n",
       "      <th>global_avg_temp</th>\n",
       "    </tr>\n",
       "  </thead>\n",
       "  <tbody>\n",
       "    <tr>\n",
       "      <th>0</th>\n",
       "      <td>Bangkok</td>\n",
       "      <td>1816</td>\n",
       "      <td>25.96</td>\n",
       "      <td>6.94</td>\n",
       "    </tr>\n",
       "    <tr>\n",
       "      <th>1</th>\n",
       "      <td>Bangkok</td>\n",
       "      <td>1817</td>\n",
       "      <td>25.83</td>\n",
       "      <td>6.98</td>\n",
       "    </tr>\n",
       "    <tr>\n",
       "      <th>2</th>\n",
       "      <td>Bangkok</td>\n",
       "      <td>1818</td>\n",
       "      <td>26.48</td>\n",
       "      <td>7.83</td>\n",
       "    </tr>\n",
       "    <tr>\n",
       "      <th>3</th>\n",
       "      <td>Bangkok</td>\n",
       "      <td>1819</td>\n",
       "      <td>25.90</td>\n",
       "      <td>7.37</td>\n",
       "    </tr>\n",
       "    <tr>\n",
       "      <th>4</th>\n",
       "      <td>Bangkok</td>\n",
       "      <td>1820</td>\n",
       "      <td>26.42</td>\n",
       "      <td>7.62</td>\n",
       "    </tr>\n",
       "  </tbody>\n",
       "</table>\n",
       "</div>"
      ],
      "text/plain": [
       "      city  year  avg_temp  global_avg_temp\n",
       "0  Bangkok  1816     25.96             6.94\n",
       "1  Bangkok  1817     25.83             6.98\n",
       "2  Bangkok  1818     26.48             7.83\n",
       "3  Bangkok  1819     25.90             7.37\n",
       "4  Bangkok  1820     26.42             7.62"
      ]
     },
     "execution_count": 308,
     "metadata": {},
     "output_type": "execute_result"
    }
   ],
   "source": [
    "BKK.head()"
   ]
  },
  {
   "cell_type": "code",
   "execution_count": 309,
   "id": "271d94b8",
   "metadata": {},
   "outputs": [
    {
     "data": {
      "text/html": [
       "<div>\n",
       "<style scoped>\n",
       "    .dataframe tbody tr th:only-of-type {\n",
       "        vertical-align: middle;\n",
       "    }\n",
       "\n",
       "    .dataframe tbody tr th {\n",
       "        vertical-align: top;\n",
       "    }\n",
       "\n",
       "    .dataframe thead th {\n",
       "        text-align: right;\n",
       "    }\n",
       "</style>\n",
       "<table border=\"1\" class=\"dataframe\">\n",
       "  <thead>\n",
       "    <tr style=\"text-align: right;\">\n",
       "      <th></th>\n",
       "      <th>city</th>\n",
       "      <th>year</th>\n",
       "      <th>avg_temp</th>\n",
       "      <th>global_avg_temp</th>\n",
       "    </tr>\n",
       "  </thead>\n",
       "  <tbody>\n",
       "    <tr>\n",
       "      <th>193</th>\n",
       "      <td>Bangkok</td>\n",
       "      <td>2009</td>\n",
       "      <td>27.79</td>\n",
       "      <td>9.51</td>\n",
       "    </tr>\n",
       "    <tr>\n",
       "      <th>194</th>\n",
       "      <td>Bangkok</td>\n",
       "      <td>2010</td>\n",
       "      <td>28.54</td>\n",
       "      <td>9.70</td>\n",
       "    </tr>\n",
       "    <tr>\n",
       "      <th>195</th>\n",
       "      <td>Bangkok</td>\n",
       "      <td>2011</td>\n",
       "      <td>27.56</td>\n",
       "      <td>9.52</td>\n",
       "    </tr>\n",
       "    <tr>\n",
       "      <th>196</th>\n",
       "      <td>Bangkok</td>\n",
       "      <td>2012</td>\n",
       "      <td>28.48</td>\n",
       "      <td>9.51</td>\n",
       "    </tr>\n",
       "    <tr>\n",
       "      <th>197</th>\n",
       "      <td>Bangkok</td>\n",
       "      <td>2013</td>\n",
       "      <td>28.98</td>\n",
       "      <td>9.61</td>\n",
       "    </tr>\n",
       "  </tbody>\n",
       "</table>\n",
       "</div>"
      ],
      "text/plain": [
       "        city  year  avg_temp  global_avg_temp\n",
       "193  Bangkok  2009     27.79             9.51\n",
       "194  Bangkok  2010     28.54             9.70\n",
       "195  Bangkok  2011     27.56             9.52\n",
       "196  Bangkok  2012     28.48             9.51\n",
       "197  Bangkok  2013     28.98             9.61"
      ]
     },
     "execution_count": 309,
     "metadata": {},
     "output_type": "execute_result"
    }
   ],
   "source": [
    "BKK.tail()"
   ]
  },
  {
   "cell_type": "code",
   "execution_count": 310,
   "id": "6891ba3c",
   "metadata": {},
   "outputs": [
    {
     "name": "stdout",
     "output_type": "stream",
     "text": [
      "<class 'pandas.core.frame.DataFrame'>\n",
      "RangeIndex: 198 entries, 0 to 197\n",
      "Data columns (total 4 columns):\n",
      " #   Column           Non-Null Count  Dtype  \n",
      "---  ------           --------------  -----  \n",
      " 0   city             198 non-null    object \n",
      " 1   year             198 non-null    int64  \n",
      " 2   avg_temp         190 non-null    float64\n",
      " 3   global_avg_temp  198 non-null    float64\n",
      "dtypes: float64(2), int64(1), object(1)\n",
      "memory usage: 6.3+ KB\n"
     ]
    }
   ],
   "source": [
    "BKK.info()"
   ]
  },
  {
   "cell_type": "markdown",
   "id": "b9cf1022",
   "metadata": {},
   "source": [
    "### Visualize the trend of temperatures"
   ]
  },
  {
   "cell_type": "code",
   "execution_count": 311,
   "id": "5f884695",
   "metadata": {},
   "outputs": [
    {
     "data": {
      "text/plain": [
       "Text(0.5, 1.0, 'Bangkok & Global temperature trend ')"
      ]
     },
     "execution_count": 311,
     "metadata": {},
     "output_type": "execute_result"
    },
    {
     "data": {
      "image/png": "[encoded data removed]",
      "text/plain": [
       "<Figure size 432x288 with 1 Axes>"
      ]
     },
     "metadata": {
      "needs_background": "light"
     },
     "output_type": "display_data"
    }
   ],
   "source": [
    "sns.lineplot(data=BKK, y='avg_temp', x='year')\n",
    "sns.lineplot(data=BKK, y='global_avg_temp', x='year')\n",
    "plt.legend(['Bangkok ', 'global'])\n",
    "plt.title('Bangkok & Global temperature trend ')"
   ]
  },
  {
   "cell_type": "markdown",
   "id": "d88e5dc5",
   "metadata": {},
   "source": [
    "### Calculate Moving Average of 10, 15, and 20 years period "
   ]
  },
  {
   "cell_type": "code",
   "execution_count": 312,
   "id": "17a926b9",
   "metadata": {},
   "outputs": [],
   "source": [
    "# calculate Moving Average of BKK average temperature over 10 years\n",
    "BKK['BKK_MA_10'] = BKK.avg_temp.rolling(10, min_periods=1).mean()\n",
    "# calculate Moving Average of global average temperature over 10 years\n",
    "BKK['global_MA_10'] = BKK.global_avg_temp.rolling(10, min_periods=1).mean()\n",
    "# calculate Moving Average of BKK average temperature over 15 years\n",
    "BKK['BKK_MA_15'] = BKK.avg_temp.rolling(15, min_periods=1).mean()\n",
    "# calculate Moving Average of global average temperature over 15 years\n",
    "BKK['global_MA_15'] = BKK.global_avg_temp.rolling(15, min_periods=1).mean()\n",
    "# calculate Moving Average of BKK average temperature over 20 years\n",
    "BKK['BKK_MA_20'] = BKK.avg_temp.rolling(20, min_periods=1).mean()\n",
    "# calculate Moving Average of global average temperature over 20 years\n",
    "BKK['global_MA_20'] = BKK.global_avg_temp.rolling(20, min_periods=1).mean()"
   ]
  },
  {
   "cell_type": "markdown",
   "id": "b6289225",
   "metadata": {},
   "source": [
    "### Visualize the BKK Moving Average with Global trend"
   ]
  },
  {
   "cell_type": "code",
   "execution_count": 313,
   "id": "848c4462",
   "metadata": {},
   "outputs": [
    {
     "data": {
      "text/plain": [
       "Text(0.5, 1.0, 'Bangkok & Global Moving Average 10 years')"
      ]
     },
     "execution_count": 313,
     "metadata": {},
     "output_type": "execute_result"
    },
    {
     "data": {
      "image/png": "[encoded data removed]",
      "text/plain": [
       "<Figure size 432x288 with 1 Axes>"
      ]
     },
     "metadata": {
      "needs_background": "light"
     },
     "output_type": "display_data"
    }
   ],
   "source": [
    "sns.lineplot(data=BKK, y='BKK_MA_10', x='year')\n",
    "sns.lineplot(data=BKK, y='global_MA_10', x='year')\n",
    "plt.legend(['Bangkok ', 'global'])\n",
    "plt.title('Bangkok & Global Moving Average 10 years')"
   ]
  },
  {
   "cell_type": "code",
   "execution_count": 314,
   "id": "a9518c17",
   "metadata": {},
   "outputs": [
    {
     "data": {
      "text/plain": [
       "Text(0.5, 1.0, 'Bangkok & Global Moving Average 15 years')"
      ]
     },
     "execution_count": 314,
     "metadata": {},
     "output_type": "execute_result"
    },
    {
     "data": {
      "image/png": "[encoded data removed]",
      "text/plain": [
       "<Figure size 432x288 with 1 Axes>"
      ]
     },
     "metadata": {
      "needs_background": "light"
     },
     "output_type": "display_data"
    }
   ],
   "source": [
    "sns.lineplot(data=BKK, y='BKK_MA_15', x='year')\n",
    "sns.lineplot(data=BKK, y='global_MA_15', x='year')\n",
    "plt.legend(['Bangkok', 'global'])\n",
    "plt.title('Bangkok & Global Moving Average 15 years')"
   ]
  },
  {
   "cell_type": "code",
   "execution_count": 315,
   "id": "f430ce46",
   "metadata": {},
   "outputs": [
    {
     "data": {
      "text/plain": [
       "Text(0.5, 1.0, 'Bangkok & Global Moving Average 20 years')"
      ]
     },
     "execution_count": 315,
     "metadata": {},
     "output_type": "execute_result"
    },
    {
     "data": {
      "image/png": "[encoded data removed]",
      "text/plain": [
       "<Figure size 432x288 with 1 Axes>"
      ]
     },
     "metadata": {
      "needs_background": "light"
     },
     "output_type": "display_data"
    }
   ],
   "source": [
    "sns.lineplot(data=BKK, y='BKK_MA_20', x='year')\n",
    "sns.lineplot(data=BKK, y='global_MA_20', x='year')\n",
    "plt.legend(['Bangkok', 'global'])\n",
    "plt.title('Bangkok & Global Moving Average 20 years')"
   ]
  },
  {
   "cell_type": "markdown",
   "id": "d72cd71f",
   "metadata": {},
   "source": [
    "### Import Singapore Data & Calculate Moving Average "
   ]
  },
  {
   "cell_type": "code",
   "execution_count": 316,
   "id": "8cc6f2bc",
   "metadata": {},
   "outputs": [],
   "source": [
    "SG = pd.read_csv('/Users/atikarnpattamavichaiporn/Downloads/SG.csv')"
   ]
  },
  {
   "cell_type": "code",
   "execution_count": 317,
   "id": "b525defe",
   "metadata": {},
   "outputs": [
    {
     "data": {
      "text/html": [
       "<div>\n",
       "<style scoped>\n",
       "    .dataframe tbody tr th:only-of-type {\n",
       "        vertical-align: middle;\n",
       "    }\n",
       "\n",
       "    .dataframe tbody tr th {\n",
       "        vertical-align: top;\n",
       "    }\n",
       "\n",
       "    .dataframe thead th {\n",
       "        text-align: right;\n",
       "    }\n",
       "</style>\n",
       "<table border=\"1\" class=\"dataframe\">\n",
       "  <thead>\n",
       "    <tr style=\"text-align: right;\">\n",
       "      <th></th>\n",
       "      <th>city</th>\n",
       "      <th>year</th>\n",
       "      <th>avg_temp</th>\n",
       "      <th>global_avg_temp</th>\n",
       "    </tr>\n",
       "  </thead>\n",
       "  <tbody>\n",
       "    <tr>\n",
       "      <th>0</th>\n",
       "      <td>Singapore</td>\n",
       "      <td>1825</td>\n",
       "      <td>26.43</td>\n",
       "      <td>8.39</td>\n",
       "    </tr>\n",
       "    <tr>\n",
       "      <th>1</th>\n",
       "      <td>Singapore</td>\n",
       "      <td>1826</td>\n",
       "      <td>NaN</td>\n",
       "      <td>8.36</td>\n",
       "    </tr>\n",
       "    <tr>\n",
       "      <th>2</th>\n",
       "      <td>Singapore</td>\n",
       "      <td>1827</td>\n",
       "      <td>NaN</td>\n",
       "      <td>8.81</td>\n",
       "    </tr>\n",
       "    <tr>\n",
       "      <th>3</th>\n",
       "      <td>Singapore</td>\n",
       "      <td>1828</td>\n",
       "      <td>NaN</td>\n",
       "      <td>8.17</td>\n",
       "    </tr>\n",
       "    <tr>\n",
       "      <th>4</th>\n",
       "      <td>Singapore</td>\n",
       "      <td>1829</td>\n",
       "      <td>NaN</td>\n",
       "      <td>7.94</td>\n",
       "    </tr>\n",
       "    <tr>\n",
       "      <th>...</th>\n",
       "      <td>...</td>\n",
       "      <td>...</td>\n",
       "      <td>...</td>\n",
       "      <td>...</td>\n",
       "    </tr>\n",
       "    <tr>\n",
       "      <th>184</th>\n",
       "      <td>Singapore</td>\n",
       "      <td>2009</td>\n",
       "      <td>27.47</td>\n",
       "      <td>9.51</td>\n",
       "    </tr>\n",
       "    <tr>\n",
       "      <th>185</th>\n",
       "      <td>Singapore</td>\n",
       "      <td>2010</td>\n",
       "      <td>27.60</td>\n",
       "      <td>9.70</td>\n",
       "    </tr>\n",
       "    <tr>\n",
       "      <th>186</th>\n",
       "      <td>Singapore</td>\n",
       "      <td>2011</td>\n",
       "      <td>27.28</td>\n",
       "      <td>9.52</td>\n",
       "    </tr>\n",
       "    <tr>\n",
       "      <th>187</th>\n",
       "      <td>Singapore</td>\n",
       "      <td>2012</td>\n",
       "      <td>27.30</td>\n",
       "      <td>9.51</td>\n",
       "    </tr>\n",
       "    <tr>\n",
       "      <th>188</th>\n",
       "      <td>Singapore</td>\n",
       "      <td>2013</td>\n",
       "      <td>27.60</td>\n",
       "      <td>9.61</td>\n",
       "    </tr>\n",
       "  </tbody>\n",
       "</table>\n",
       "<p>189 rows × 4 columns</p>\n",
       "</div>"
      ],
      "text/plain": [
       "          city  year  avg_temp  global_avg_temp\n",
       "0    Singapore  1825     26.43             8.39\n",
       "1    Singapore  1826       NaN             8.36\n",
       "2    Singapore  1827       NaN             8.81\n",
       "3    Singapore  1828       NaN             8.17\n",
       "4    Singapore  1829       NaN             7.94\n",
       "..         ...   ...       ...              ...\n",
       "184  Singapore  2009     27.47             9.51\n",
       "185  Singapore  2010     27.60             9.70\n",
       "186  Singapore  2011     27.28             9.52\n",
       "187  Singapore  2012     27.30             9.51\n",
       "188  Singapore  2013     27.60             9.61\n",
       "\n",
       "[189 rows x 4 columns]"
      ]
     },
     "execution_count": 317,
     "metadata": {},
     "output_type": "execute_result"
    }
   ],
   "source": [
    "SG"
   ]
  },
  {
   "cell_type": "code",
   "execution_count": 318,
   "id": "e86e1e0a",
   "metadata": {},
   "outputs": [],
   "source": [
    "# calculate Moving Average of SG average temperature over 20 years\n",
    "SG['SG_MA_20'] = SG.avg_temp.rolling(20, min_periods=1).mean()"
   ]
  },
  {
   "cell_type": "markdown",
   "id": "ad0e0f2a",
   "metadata": {},
   "source": [
    "### Import Kuala Lumpur Data and Calculate Moving Average"
   ]
  },
  {
   "cell_type": "code",
   "execution_count": 319,
   "id": "577e8bc3",
   "metadata": {},
   "outputs": [],
   "source": [
    "KL = pd.read_csv('/Users/atikarnpattamavichaiporn/Downloads/KL.csv')"
   ]
  },
  {
   "cell_type": "code",
   "execution_count": 320,
   "id": "f1f24e5a",
   "metadata": {},
   "outputs": [
    {
     "data": {
      "text/html": [
       "<div>\n",
       "<style scoped>\n",
       "    .dataframe tbody tr th:only-of-type {\n",
       "        vertical-align: middle;\n",
       "    }\n",
       "\n",
       "    .dataframe tbody tr th {\n",
       "        vertical-align: top;\n",
       "    }\n",
       "\n",
       "    .dataframe thead th {\n",
       "        text-align: right;\n",
       "    }\n",
       "</style>\n",
       "<table border=\"1\" class=\"dataframe\">\n",
       "  <thead>\n",
       "    <tr style=\"text-align: right;\">\n",
       "      <th></th>\n",
       "      <th>city</th>\n",
       "      <th>year</th>\n",
       "      <th>avg_temp</th>\n",
       "      <th>global_avg_temp</th>\n",
       "    </tr>\n",
       "  </thead>\n",
       "  <tbody>\n",
       "    <tr>\n",
       "      <th>0</th>\n",
       "      <td>Kuala Lumpur</td>\n",
       "      <td>1825</td>\n",
       "      <td>26.46</td>\n",
       "      <td>8.39</td>\n",
       "    </tr>\n",
       "    <tr>\n",
       "      <th>1</th>\n",
       "      <td>Kuala Lumpur</td>\n",
       "      <td>1826</td>\n",
       "      <td>NaN</td>\n",
       "      <td>8.36</td>\n",
       "    </tr>\n",
       "    <tr>\n",
       "      <th>2</th>\n",
       "      <td>Kuala Lumpur</td>\n",
       "      <td>1827</td>\n",
       "      <td>NaN</td>\n",
       "      <td>8.81</td>\n",
       "    </tr>\n",
       "    <tr>\n",
       "      <th>3</th>\n",
       "      <td>Kuala Lumpur</td>\n",
       "      <td>1828</td>\n",
       "      <td>NaN</td>\n",
       "      <td>8.17</td>\n",
       "    </tr>\n",
       "    <tr>\n",
       "      <th>4</th>\n",
       "      <td>Kuala Lumpur</td>\n",
       "      <td>1829</td>\n",
       "      <td>NaN</td>\n",
       "      <td>7.94</td>\n",
       "    </tr>\n",
       "    <tr>\n",
       "      <th>...</th>\n",
       "      <td>...</td>\n",
       "      <td>...</td>\n",
       "      <td>...</td>\n",
       "      <td>...</td>\n",
       "    </tr>\n",
       "    <tr>\n",
       "      <th>184</th>\n",
       "      <td>Kuala Lumpur</td>\n",
       "      <td>2009</td>\n",
       "      <td>27.47</td>\n",
       "      <td>9.51</td>\n",
       "    </tr>\n",
       "    <tr>\n",
       "      <th>185</th>\n",
       "      <td>Kuala Lumpur</td>\n",
       "      <td>2010</td>\n",
       "      <td>27.69</td>\n",
       "      <td>9.70</td>\n",
       "    </tr>\n",
       "    <tr>\n",
       "      <th>186</th>\n",
       "      <td>Kuala Lumpur</td>\n",
       "      <td>2011</td>\n",
       "      <td>27.27</td>\n",
       "      <td>9.52</td>\n",
       "    </tr>\n",
       "    <tr>\n",
       "      <th>187</th>\n",
       "      <td>Kuala Lumpur</td>\n",
       "      <td>2012</td>\n",
       "      <td>27.36</td>\n",
       "      <td>9.51</td>\n",
       "    </tr>\n",
       "    <tr>\n",
       "      <th>188</th>\n",
       "      <td>Kuala Lumpur</td>\n",
       "      <td>2013</td>\n",
       "      <td>27.80</td>\n",
       "      <td>9.61</td>\n",
       "    </tr>\n",
       "  </tbody>\n",
       "</table>\n",
       "<p>189 rows × 4 columns</p>\n",
       "</div>"
      ],
      "text/plain": [
       "             city  year  avg_temp  global_avg_temp\n",
       "0    Kuala Lumpur  1825     26.46             8.39\n",
       "1    Kuala Lumpur  1826       NaN             8.36\n",
       "2    Kuala Lumpur  1827       NaN             8.81\n",
       "3    Kuala Lumpur  1828       NaN             8.17\n",
       "4    Kuala Lumpur  1829       NaN             7.94\n",
       "..            ...   ...       ...              ...\n",
       "184  Kuala Lumpur  2009     27.47             9.51\n",
       "185  Kuala Lumpur  2010     27.69             9.70\n",
       "186  Kuala Lumpur  2011     27.27             9.52\n",
       "187  Kuala Lumpur  2012     27.36             9.51\n",
       "188  Kuala Lumpur  2013     27.80             9.61\n",
       "\n",
       "[189 rows x 4 columns]"
      ]
     },
     "execution_count": 320,
     "metadata": {},
     "output_type": "execute_result"
    }
   ],
   "source": [
    "KL"
   ]
  },
  {
   "cell_type": "code",
   "execution_count": 321,
   "id": "92ac72c5",
   "metadata": {},
   "outputs": [],
   "source": [
    "# calculate Moving Average of KL average temperature over 20 years\n",
    "KL['KL_MA_20'] = KL.avg_temp.rolling(20, min_periods=1).mean()"
   ]
  },
  {
   "cell_type": "markdown",
   "id": "85779b88",
   "metadata": {},
   "source": [
    "### Compare BKK, SG, and KL trend with Global trend "
   ]
  },
  {
   "cell_type": "code",
   "execution_count": 322,
   "id": "a6fbb058",
   "metadata": {},
   "outputs": [
    {
     "data": {
      "image/png": "[encoded data removed]",
      "text/plain": [
       "<Figure size 504x504 with 3 Axes>"
      ]
     },
     "metadata": {
      "needs_background": "light"
     },
     "output_type": "display_data"
    }
   ],
   "source": [
    "fig, axs = plt.subplots(3, constrained_layout=True, figsize=(7,7))\n",
    "ax1 =sns.lineplot(data=SG, y='SG_MA_20', x='year', ax=axs[1])\n",
    "ax1 = sns.lineplot(data=BKK, y='global_MA_20', x='year', ax=axs[1])\n",
    "axs[1].legend(['SG', 'Global'])\n",
    "ax1.title.set_text('Singapore vs. Global temperature trend')\n",
    "\n",
    "ax0 = sns.lineplot(data=BKK, y='BKK_MA_20', x='year', ax=axs[0])\n",
    "ax0 = sns.lineplot(data=BKK, y='global_MA_20', x='year', ax=axs[0])\n",
    "axs[0].legend(['Bangkok', 'Global'])\n",
    "ax0.title.set_text('Bangkok vs. Global temperature trend')\n",
    "\n",
    "ax2 = sns.lineplot(data=KL, y='KL_MA_20', x='year', ax=axs[2])\n",
    "ax2 = sns.lineplot(data=BKK, y='global_MA_20', x='year', ax=axs[2])\n",
    "axs[2].legend(['KL', 'Global'])\n",
    "ax2.title.set_text('Kuala Lumpur vs. Global temperature trend')"
   ]
  },
  {
   "cell_type": "markdown",
   "id": "20030e1d",
   "metadata": {},
   "source": [
    "### Correlation of BKK dataset"
   ]
  },
  {
   "cell_type": "code",
   "execution_count": 323,
   "id": "5150b5fd",
   "metadata": {},
   "outputs": [],
   "source": [
    "BKK_corr = BKK.corr()"
   ]
  },
  {
   "cell_type": "code",
   "execution_count": 324,
   "id": "a1f1f780",
   "metadata": {},
   "outputs": [
    {
     "data": {
      "text/plain": [
       "Text(0.5, 1.0, 'Correlation heatmap')"
      ]
     },
     "execution_count": 324,
     "metadata": {},
     "output_type": "execute_result"
    },
    {
     "data": {
      "image/png": "[encoded data removed]",
      "text/plain": [
       "<Figure size 432x288 with 2 Axes>"
      ]
     },
     "metadata": {
      "needs_background": "light"
     },
     "output_type": "display_data"
    }
   ],
   "source": [
    "sns.heatmap(BKK_corr, annot=True)\n",
    "plt.title('Correlation heatmap')"
   ]
  },
  {
   "cell_type": "markdown",
   "id": "95076960",
   "metadata": {},
   "source": [
    "### Predict BKK temp based on Global temp "
   ]
  },
  {
   "cell_type": "code",
   "execution_count": 325,
   "id": "37622259",
   "metadata": {},
   "outputs": [],
   "source": [
    "from sklearn.model_selection import train_test_split\n",
    "from sklearn.linear_model import LinearRegression\n",
    "import numpy as np"
   ]
  },
  {
   "cell_type": "code",
   "execution_count": 347,
   "id": "34ca8b88",
   "metadata": {},
   "outputs": [],
   "source": [
    "x = np.array(BKK['global_avg_temp'])\n",
    "y = np.array(BKK['avg_temp'])\n",
    "x_train, x_test, y_train, y_test = train_test_split(x, y, test_size=0.2, random_state=42)"
   ]
  },
  {
   "cell_type": "code",
   "execution_count": 343,
   "id": "215e595b",
   "metadata": {},
   "outputs": [],
   "source": [
    "BKK=BKK.dropna(how='any')"
   ]
  },
  {
   "cell_type": "code",
   "execution_count": 344,
   "id": "d87e6669",
   "metadata": {},
   "outputs": [
    {
     "name": "stdout",
     "output_type": "stream",
     "text": [
      "<class 'pandas.core.frame.DataFrame'>\n",
      "Int64Index: 190 entries, 0 to 197\n",
      "Data columns (total 10 columns):\n",
      " #   Column           Non-Null Count  Dtype  \n",
      "---  ------           --------------  -----  \n",
      " 0   city             190 non-null    object \n",
      " 1   year             190 non-null    int64  \n",
      " 2   avg_temp         190 non-null    float64\n",
      " 3   global_avg_temp  190 non-null    float64\n",
      " 4   BKK_MA_10        190 non-null    float64\n",
      " 5   global_MA_10     190 non-null    float64\n",
      " 6   BKK_MA_15        190 non-null    float64\n",
      " 7   global_MA_15     190 non-null    float64\n",
      " 8   BKK_MA_20        190 non-null    float64\n",
      " 9   global_MA_20     190 non-null    float64\n",
      "dtypes: float64(8), int64(1), object(1)\n",
      "memory usage: 16.3+ KB\n"
     ]
    }
   ],
   "source": [
    "BKK.info()"
   ]
  },
  {
   "cell_type": "code",
   "execution_count": 348,
   "id": "bb4c8cdc",
   "metadata": {},
   "outputs": [
    {
     "data": {
      "text/plain": [
       "LinearRegression()"
      ]
     },
     "execution_count": 348,
     "metadata": {},
     "output_type": "execute_result"
    }
   ],
   "source": [
    "model = LinearRegression()\n",
    "model.fit(x_train.reshape(-1,1), y_train)"
   ]
  },
  {
   "cell_type": "code",
   "execution_count": 365,
   "id": "6a03697b",
   "metadata": {},
   "outputs": [
    {
     "name": "stdout",
     "output_type": "stream",
     "text": [
      "[30.27194125]\n"
     ]
    }
   ],
   "source": [
    "bkk_temp = np.array([12]).reshape(-1,1)\n",
    "print(model.predict(bkk_temp))"
   ]
  },
  {
   "cell_type": "code",
   "execution_count": 366,
   "id": "32e87c4b",
   "metadata": {},
   "outputs": [],
   "source": [
    "y_pred = model.predict(x_test.reshape(-1,1))"
   ]
  },
  {
   "cell_type": "code",
   "execution_count": 367,
   "id": "0e300e0c",
   "metadata": {},
   "outputs": [],
   "source": [
    "BKK_temp_pred = pd.DataFrame({'Global Temp': x_test, 'Bangkok Temp': y_pred})"
   ]
  },
  {
   "cell_type": "code",
   "execution_count": 368,
   "id": "6131e2dd",
   "metadata": {},
   "outputs": [
    {
     "data": {
      "text/html": [
       "<div>\n",
       "<style scoped>\n",
       "    .dataframe tbody tr th:only-of-type {\n",
       "        vertical-align: middle;\n",
       "    }\n",
       "\n",
       "    .dataframe tbody tr th {\n",
       "        vertical-align: top;\n",
       "    }\n",
       "\n",
       "    .dataframe thead th {\n",
       "        text-align: right;\n",
       "    }\n",
       "</style>\n",
       "<table border=\"1\" class=\"dataframe\">\n",
       "  <thead>\n",
       "    <tr style=\"text-align: right;\">\n",
       "      <th></th>\n",
       "      <th>Global Temp</th>\n",
       "      <th>Bangkok Temp</th>\n",
       "    </tr>\n",
       "  </thead>\n",
       "  <tbody>\n",
       "    <tr>\n",
       "      <th>0</th>\n",
       "      <td>9.29</td>\n",
       "      <td>27.885559</td>\n",
       "    </tr>\n",
       "    <tr>\n",
       "      <th>1</th>\n",
       "      <td>9.32</td>\n",
       "      <td>27.911977</td>\n",
       "    </tr>\n",
       "    <tr>\n",
       "      <th>2</th>\n",
       "      <td>8.52</td>\n",
       "      <td>27.207510</td>\n",
       "    </tr>\n",
       "    <tr>\n",
       "      <th>3</th>\n",
       "      <td>8.32</td>\n",
       "      <td>27.031393</td>\n",
       "    </tr>\n",
       "    <tr>\n",
       "      <th>4</th>\n",
       "      <td>8.53</td>\n",
       "      <td>27.216316</td>\n",
       "    </tr>\n",
       "    <tr>\n",
       "      <th>5</th>\n",
       "      <td>7.63</td>\n",
       "      <td>26.423790</td>\n",
       "    </tr>\n",
       "    <tr>\n",
       "      <th>6</th>\n",
       "      <td>8.01</td>\n",
       "      <td>26.758412</td>\n",
       "    </tr>\n",
       "    <tr>\n",
       "      <th>7</th>\n",
       "      <td>7.80</td>\n",
       "      <td>26.573490</td>\n",
       "    </tr>\n",
       "    <tr>\n",
       "      <th>8</th>\n",
       "      <td>8.53</td>\n",
       "      <td>27.216316</td>\n",
       "    </tr>\n",
       "    <tr>\n",
       "      <th>9</th>\n",
       "      <td>8.75</td>\n",
       "      <td>27.410044</td>\n",
       "    </tr>\n",
       "    <tr>\n",
       "      <th>10</th>\n",
       "      <td>8.34</td>\n",
       "      <td>27.049005</td>\n",
       "    </tr>\n",
       "    <tr>\n",
       "      <th>11</th>\n",
       "      <td>8.38</td>\n",
       "      <td>27.084228</td>\n",
       "    </tr>\n",
       "    <tr>\n",
       "      <th>12</th>\n",
       "      <td>8.02</td>\n",
       "      <td>26.767218</td>\n",
       "    </tr>\n",
       "    <tr>\n",
       "      <th>13</th>\n",
       "      <td>9.20</td>\n",
       "      <td>27.806307</td>\n",
       "    </tr>\n",
       "    <tr>\n",
       "      <th>14</th>\n",
       "      <td>8.18</td>\n",
       "      <td>26.908112</td>\n",
       "    </tr>\n",
       "    <tr>\n",
       "      <th>15</th>\n",
       "      <td>8.85</td>\n",
       "      <td>27.498103</td>\n",
       "    </tr>\n",
       "    <tr>\n",
       "      <th>16</th>\n",
       "      <td>8.63</td>\n",
       "      <td>27.304374</td>\n",
       "    </tr>\n",
       "    <tr>\n",
       "      <th>17</th>\n",
       "      <td>7.97</td>\n",
       "      <td>26.723189</td>\n",
       "    </tr>\n",
       "    <tr>\n",
       "      <th>18</th>\n",
       "      <td>8.12</td>\n",
       "      <td>26.855276</td>\n",
       "    </tr>\n",
       "    <tr>\n",
       "      <th>19</th>\n",
       "      <td>8.29</td>\n",
       "      <td>27.004976</td>\n",
       "    </tr>\n",
       "    <tr>\n",
       "      <th>20</th>\n",
       "      <td>8.21</td>\n",
       "      <td>26.934529</td>\n",
       "    </tr>\n",
       "    <tr>\n",
       "      <th>21</th>\n",
       "      <td>7.98</td>\n",
       "      <td>26.731995</td>\n",
       "    </tr>\n",
       "    <tr>\n",
       "      <th>22</th>\n",
       "      <td>8.73</td>\n",
       "      <td>27.392433</td>\n",
       "    </tr>\n",
       "    <tr>\n",
       "      <th>23</th>\n",
       "      <td>8.57</td>\n",
       "      <td>27.251539</td>\n",
       "    </tr>\n",
       "    <tr>\n",
       "      <th>24</th>\n",
       "      <td>8.07</td>\n",
       "      <td>26.811247</td>\n",
       "    </tr>\n",
       "    <tr>\n",
       "      <th>25</th>\n",
       "      <td>8.63</td>\n",
       "      <td>27.304374</td>\n",
       "    </tr>\n",
       "    <tr>\n",
       "      <th>26</th>\n",
       "      <td>8.80</td>\n",
       "      <td>27.454073</td>\n",
       "    </tr>\n",
       "    <tr>\n",
       "      <th>27</th>\n",
       "      <td>8.17</td>\n",
       "      <td>26.899306</td>\n",
       "    </tr>\n",
       "    <tr>\n",
       "      <th>28</th>\n",
       "      <td>8.43</td>\n",
       "      <td>27.128257</td>\n",
       "    </tr>\n",
       "    <tr>\n",
       "      <th>29</th>\n",
       "      <td>8.40</td>\n",
       "      <td>27.101840</td>\n",
       "    </tr>\n",
       "    <tr>\n",
       "      <th>30</th>\n",
       "      <td>8.84</td>\n",
       "      <td>27.489297</td>\n",
       "    </tr>\n",
       "    <tr>\n",
       "      <th>31</th>\n",
       "      <td>8.02</td>\n",
       "      <td>26.767218</td>\n",
       "    </tr>\n",
       "    <tr>\n",
       "      <th>32</th>\n",
       "      <td>8.09</td>\n",
       "      <td>26.828859</td>\n",
       "    </tr>\n",
       "    <tr>\n",
       "      <th>33</th>\n",
       "      <td>8.28</td>\n",
       "      <td>26.996170</td>\n",
       "    </tr>\n",
       "    <tr>\n",
       "      <th>34</th>\n",
       "      <td>8.87</td>\n",
       "      <td>27.515714</td>\n",
       "    </tr>\n",
       "    <tr>\n",
       "      <th>35</th>\n",
       "      <td>8.99</td>\n",
       "      <td>27.621384</td>\n",
       "    </tr>\n",
       "    <tr>\n",
       "      <th>36</th>\n",
       "      <td>8.30</td>\n",
       "      <td>27.013782</td>\n",
       "    </tr>\n",
       "    <tr>\n",
       "      <th>37</th>\n",
       "      <td>8.55</td>\n",
       "      <td>27.233927</td>\n",
       "    </tr>\n",
       "  </tbody>\n",
       "</table>\n",
       "</div>"
      ],
      "text/plain": [
       "    Global Temp  Bangkok Temp\n",
       "0          9.29     27.885559\n",
       "1          9.32     27.911977\n",
       "2          8.52     27.207510\n",
       "3          8.32     27.031393\n",
       "4          8.53     27.216316\n",
       "5          7.63     26.423790\n",
       "6          8.01     26.758412\n",
       "7          7.80     26.573490\n",
       "8          8.53     27.216316\n",
       "9          8.75     27.410044\n",
       "10         8.34     27.049005\n",
       "11         8.38     27.084228\n",
       "12         8.02     26.767218\n",
       "13         9.20     27.806307\n",
       "14         8.18     26.908112\n",
       "15         8.85     27.498103\n",
       "16         8.63     27.304374\n",
       "17         7.97     26.723189\n",
       "18         8.12     26.855276\n",
       "19         8.29     27.004976\n",
       "20         8.21     26.934529\n",
       "21         7.98     26.731995\n",
       "22         8.73     27.392433\n",
       "23         8.57     27.251539\n",
       "24         8.07     26.811247\n",
       "25         8.63     27.304374\n",
       "26         8.80     27.454073\n",
       "27         8.17     26.899306\n",
       "28         8.43     27.128257\n",
       "29         8.40     27.101840\n",
       "30         8.84     27.489297\n",
       "31         8.02     26.767218\n",
       "32         8.09     26.828859\n",
       "33         8.28     26.996170\n",
       "34         8.87     27.515714\n",
       "35         8.99     27.621384\n",
       "36         8.30     27.013782\n",
       "37         8.55     27.233927"
      ]
     },
     "execution_count": 368,
     "metadata": {},
     "output_type": "execute_result"
    }
   ],
   "source": [
    "BKK_temp_pred"
   ]
  },
  {
   "cell_type": "code",
   "execution_count": null,
   "id": "060ef6fb",
   "metadata": {},
   "outputs": [],
   "source": [
    "m"
   ]
  }
 ],
 "metadata": {
  "kernelspec": {
   "display_name": "Python 3 (ipykernel)",
   "language": "python",
   "name": "python3"
  },
  "language_info": {
   "codemirror_mode": {
    "name": "ipython",
    "version": 3
   },
   "file_extension": ".py",
   "mimetype": "text/x-python",
   "name": "python",
   "nbconvert_exporter": "python",
   "pygments_lexer": "ipython3",
   "version": "3.9.12"
  }
 },
 "nbformat": 4,
 "nbformat_minor": 5
}
